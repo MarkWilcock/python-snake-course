{
 "cells": [
  {
   "cell_type": "markdown",
   "id": "96370caf",
   "metadata": {},
   "source": [
    "# Lesson 5 Essentials"
   ]
  },
  {
   "cell_type": "markdown",
   "id": "a64a1efe",
   "metadata": {},
   "source": [
    "## Unpacking a tuple or a list\n",
    "\n",
    "If we want to assign individual variable to items in a tuple or list, we can _unpack_ it."
   ]
  },
  {
   "cell_type": "code",
   "execution_count": null,
   "id": "fcab9c89",
   "metadata": {},
   "outputs": [],
   "source": [
    "coordinates = (2,5) # This is a tuple\n",
    "coordinates"
   ]
  },
  {
   "cell_type": "code",
   "execution_count": null,
   "id": "1791f11e",
   "metadata": {},
   "outputs": [],
   "source": [
    "x, y = coordinates # Unpacking the tuple\n",
    "print(f\"x: {x}, y: {y}\")"
   ]
  },
  {
   "cell_type": "markdown",
   "id": "8e43c98e",
   "metadata": {},
   "source": [
    "The snake's body is a list of (currently) three tuples, each tuple having two items, the x and y position of that segment of the snake.  The head of the snake is the first tuple. So to get the x and y position of the head..."
   ]
  },
  {
   "cell_type": "code",
   "execution_count": null,
   "id": "a93d7ec3",
   "metadata": {},
   "outputs": [],
   "source": [
    "snake_body = [(1, 2), (1, 3), (1, 4)] # List of tuples\n",
    "x, y = snake_body[0] # Unpacking the first tuple in the list\n",
    "print(f\"Snake head position - x: {x}, y: {y}\")  "
   ]
  },
  {
   "cell_type": "markdown",
   "id": "172bbb99",
   "metadata": {},
   "source": [
    "## List comprehensions\n",
    "\n",
    "The AI may suggest creating the snake body list using a list comprehension"
   ]
  },
  {
   "cell_type": "code",
   "execution_count": null,
   "id": "5c2cdcd4",
   "metadata": {},
   "outputs": [],
   "source": [
    "# The current way to create our snake (a list of tuple, each of which is a pair of x,y values)\n",
    "snake_body = []\n",
    "for i in range(3):\n",
    "    snake_body.append((1, 2 + i))  \n",
    "\n",
    "snake_body"
   ]
  },
  {
   "cell_type": "code",
   "execution_count": null,
   "id": "28387899",
   "metadata": {},
   "outputs": [],
   "source": [
    "# A list comprehension can do this in a more elegant (Pythonic) way\n",
    "snake_body = [(1, 2 + i) for i in range(3)]\n",
    "snake_body"
   ]
  }
 ],
 "metadata": {
  "kernelspec": {
   "display_name": ".venv",
   "language": "python",
   "name": "python3"
  },
  "language_info": {
   "codemirror_mode": {
    "name": "ipython",
    "version": 3
   },
   "file_extension": ".py",
   "mimetype": "text/x-python",
   "name": "python",
   "nbconvert_exporter": "python",
   "pygments_lexer": "ipython3",
   "version": "3.13.3"
  }
 },
 "nbformat": 4,
 "nbformat_minor": 5
}
