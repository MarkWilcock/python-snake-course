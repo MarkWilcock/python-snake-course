{
 "cells": [
  {
   "attachments": {},
   "cell_type": "markdown",
   "metadata": {},
   "source": [
    "## Class Essentials\n",
    "\n",
    "Example: just about the most simple class possible"
   ]
  },
  {
   "cell_type": "code",
   "execution_count": null,
   "metadata": {},
   "outputs": [],
   "source": [
    "\n",
    "class SimpleAirport:\n",
    "    def __init__(self, the_code=\"???\", the_city=\"Unknown City\"):\n",
    "        self.code = the_code\n",
    "        self.city = the_city\n",
    "        \n",
    "    def __str__(self):\n",
    "        return (f\"Airport {self.code} is in {self.city}.\")\n",
    "\n"
   ]
  },
  {
   "cell_type": "code",
   "execution_count": 55,
   "metadata": {},
   "outputs": [
    {
     "name": "stdout",
     "output_type": "stream",
     "text": [
      "Airport LHR is in London.\n"
     ]
    }
   ],
   "source": [
    "heathrow = SimpleAirport(\"LHR\", \"London\")\n",
    "print(heathrow)"
   ]
  },
  {
   "cell_type": "code",
   "execution_count": 45,
   "metadata": {},
   "outputs": [
    {
     "name": "stdout",
     "output_type": "stream",
     "text": [
      "LHR\n"
     ]
    }
   ],
   "source": [
    "print(heathrow.code)"
   ]
  },
  {
   "cell_type": "code",
   "execution_count": 46,
   "metadata": {},
   "outputs": [
    {
     "name": "stdout",
     "output_type": "stream",
     "text": [
      "London\n"
     ]
    }
   ],
   "source": [
    "# get the city of the airport\n",
    "print(heathrow.city)"
   ]
  },
  {
   "cell_type": "code",
   "execution_count": 47,
   "metadata": {},
   "outputs": [
    {
     "name": "stdout",
     "output_type": "stream",
     "text": [
      "Greater Hounslow\n"
     ]
    }
   ],
   "source": [
    "heathrow.city = \"Greater Hounslow\"\n",
    "print(heathrow.city)"
   ]
  },
  {
   "cell_type": "markdown",
   "metadata": {},
   "source": [
    "Example: a more conventional class with properties and decorators"
   ]
  },
  {
   "cell_type": "code",
   "execution_count": 48,
   "metadata": {},
   "outputs": [],
   "source": [
    "class Airport:\n",
    "    \"\"\" An airport has a three letter code and serves a major city \"\"\"\n",
    "    def __init__(self, code, city=\"London\"):\n",
    "        self.code = code # calls the setter, no direct access to the attribute\n",
    "        self.city = city # calls the setter, no direct access to the attribute\n",
    "    \n",
    "    def __str__(self):\n",
    "        \"\"\" Returns the code and city in a nicely formatted string \"\"\"\n",
    "        return f\"Airport code {self.code} serves city {self.city}.\"\n",
    "\n",
    "    @property\n",
    "    def code(self):\n",
    "        return self._code\n",
    "\n",
    "    @code.setter\n",
    "    def code(self, code):\n",
    "        if len(code) != 3:\n",
    "            raise ValueError(\"Airport code must be 3 characters\")\n",
    "        self._code = code\n",
    "\n",
    "    @property\n",
    "    def city(self):\n",
    "        return self._city\n",
    "\n",
    "    @city.setter\n",
    "    def city(self, city):\n",
    "        if city not in (\"London\", \"Birmingham\", \"Manchester\"):\n",
    "            raise ValueError(\"Airport city must be either London, Birmingham or Manchester\")\n",
    "        self._city = city"
   ]
  },
  {
   "cell_type": "markdown",
   "metadata": {},
   "source": [
    "Using the Airport class"
   ]
  },
  {
   "cell_type": "code",
   "execution_count": 49,
   "metadata": {},
   "outputs": [
    {
     "name": "stdout",
     "output_type": "stream",
     "text": [
      "Airport code LGW serves city London.\n"
     ]
    }
   ],
   "source": [
    "gatwick = Airport(\"LGW\", \"London\")\n",
    "print(gatwick)"
   ]
  },
  {
   "cell_type": "code",
   "execution_count": 50,
   "metadata": {},
   "outputs": [
    {
     "name": "stdout",
     "output_type": "stream",
     "text": [
      "Airport code LGW serves city Birmingham.\n"
     ]
    }
   ],
   "source": [
    "gatwick.city = \"Birmingham\"\n",
    "print(gatwick)"
   ]
  },
  {
   "cell_type": "code",
   "execution_count": 51,
   "metadata": {},
   "outputs": [],
   "source": [
    "#gatwick.city=\"Croydon\"  # This will raise a ValueError\n"
   ]
  },
  {
   "cell_type": "code",
   "execution_count": 52,
   "metadata": {},
   "outputs": [
    {
     "name": "stdout",
     "output_type": "stream",
     "text": [
      "Airport code LGW serves city London.\n",
      "Airport code MAN serves city Manchester.\n",
      "Airport code LHR serves city London.\n"
     ]
    }
   ],
   "source": [
    "airports = []\n",
    "airports.append(Airport(\"LGW\"))\n",
    "airports.append(Airport(\"MAN\", \"Manchester\"))\n",
    "airports.append(Airport(\"LHR\", \"London\"))\n",
    "\n",
    "for airport in airports:\n",
    "    print(airport) # will use the __str__ method"
   ]
  },
  {
   "cell_type": "code",
   "execution_count": 53,
   "metadata": {},
   "outputs": [
    {
     "name": "stdout",
     "output_type": "stream",
     "text": [
      "Airport code STN serves city London.\n",
      "Airport code STN serves city Birmingham.\n"
     ]
    }
   ],
   "source": [
    "stansted = Airport(\"STN\", \"London\")\n",
    "print(stansted)\n",
    "\n",
    "stansted.city = \"Birmingham\"\n",
    "print(stansted)"
   ]
  },
  {
   "cell_type": "code",
   "execution_count": 54,
   "metadata": {},
   "outputs": [],
   "source": [
    "# Change the city for Stansted to an unacceptable value will raise an error\n",
    "#stansted.city = \"Paris\""
   ]
  },
  {
   "cell_type": "markdown",
   "metadata": {},
   "source": [
    "\n",
    "\n",
    "Best practices for building classes:\n",
    "\n",
    "* Naming Conventions: Use CamelCase for class names and snake_case for method and variable names.\n",
    "* Use docstrings: Include docstrings to document classes, methods, and attributes\n",
    "* Implement __init__ to initialise the class\n",
    "* Implement __str__ for a user friendly description, used by print()\n",
    "* Use properties: Use @property and @property_name.setter for attribute access.\n",
    "* Use default values for optional constructor argument\n"
   ]
  }
 ],
 "metadata": {
  "kernelspec": {
   "display_name": ".venv",
   "language": "python",
   "name": "python3"
  },
  "language_info": {
   "codemirror_mode": {
    "name": "ipython",
    "version": 3
   },
   "file_extension": ".py",
   "mimetype": "text/x-python",
   "name": "python",
   "nbconvert_exporter": "python",
   "pygments_lexer": "ipython3",
   "version": "3.13.3"
  },
  "orig_nbformat": 4
 },
 "nbformat": 4,
 "nbformat_minor": 2
}
