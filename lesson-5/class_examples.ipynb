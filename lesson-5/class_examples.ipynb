{
 "cells": [
  {
   "cell_type": "markdown",
   "id": "4768af8c",
   "metadata": {},
   "source": [
    "#  An example of classes in pandas"
   ]
  },
  {
   "cell_type": "code",
   "execution_count": null,
   "id": "4c7e1131",
   "metadata": {},
   "outputs": [],
   "source": [
    "%pip install pandas\n"
   ]
  },
  {
   "cell_type": "code",
   "execution_count": null,
   "id": "72538925",
   "metadata": {},
   "outputs": [],
   "source": [
    "import pandas as pd"
   ]
  },
  {
   "cell_type": "code",
   "execution_count": null,
   "id": "1bc0188f",
   "metadata": {},
   "outputs": [],
   "source": [
    "fb_dict = {\n",
    "        'id': ['MCY', 'LIV', 'TOT', 'CHE', 'ARL'],\n",
    "        'city': ['Manchester',\t'Liverpool', 'London', 'London', 'London'],\n",
    "        'team':\t['Manchester City', 'Liverpool', 'Tottenham Hotspur', 'Chelsea', 'Arsenal'],\n",
    "        'champions_league': ['Yes', 'Yes', 'No', 'No', 'Yes'],\n",
    "        'won':\t[5, 6, 6, 5, 5],\n",
    "        'drawn': [4, 1, 0, 2,0],\n",
    "        'lost': [0, 0, 2, 0, 2],\n",
    "        'form': ['DWWWW', 'WWWWD', 'LLWWW', 'WWWDD', 'WWWWW']\n",
    "        }\n",
    "\n",
    "fb = pd.DataFrame(fb_dict)\n",
    "fb"
   ]
  },
  {
   "cell_type": "code",
   "execution_count": null,
   "id": "c9e8c3b2",
   "metadata": {},
   "outputs": [],
   "source": [
    "type(fb)\n",
    "fb?"
   ]
  }
 ],
 "metadata": {
  "kernelspec": {
   "display_name": ".venv",
   "language": "python",
   "name": "python3"
  },
  "language_info": {
   "codemirror_mode": {
    "name": "ipython",
    "version": 3
   },
   "file_extension": ".py",
   "mimetype": "text/x-python",
   "name": "python",
   "nbconvert_exporter": "python",
   "pygments_lexer": "ipython3",
   "version": "3.13.3"
  }
 },
 "nbformat": 4,
 "nbformat_minor": 5
}
