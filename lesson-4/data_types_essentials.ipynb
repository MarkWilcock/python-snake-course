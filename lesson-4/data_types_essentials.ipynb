{
 "cells": [
  {
   "cell_type": "markdown",
   "id": "c45a33fa",
   "metadata": {},
   "source": [
    "# Data Types Essentials\n",
    "\n",
    "Python implicitly sets the data type of a variable or an expression.  \n",
    "The type() function returns the data type"
   ]
  },
  {
   "cell_type": "code",
   "execution_count": null,
   "id": "265d51bb",
   "metadata": {},
   "outputs": [],
   "source": [
    "print(f\"type(7) {type(7)}\")\n",
    "print(f\"type(7.1) {type(7.1)}\")\n",
    "print(f\"type('hello') {type('hello')}\")\n",
    "print(f\"type(True) {type(True)}\")\n"
   ]
  },
  {
   "cell_type": "markdown",
   "id": "afb2cfbe",
   "metadata": {},
   "source": [
    "If we divide two integers with /, we get a float.  \n",
    "If we divide two integers with //, we get an int."
   ]
  },
  {
   "cell_type": "code",
   "execution_count": null,
   "id": "13f18159",
   "metadata": {},
   "outputs": [],
   "source": [
    "result1 = 8 / 2\n",
    "print(f\"8 / 2 = {result1} and type(result1) = {type(result1)}\")"
   ]
  },
  {
   "cell_type": "code",
   "execution_count": null,
   "id": "fb0b4335",
   "metadata": {},
   "outputs": [],
   "source": [
    "result2 = 8 // 2\n",
    "print(f\"8 // 2 = {result2} and type(result2) = {type(result2)}\")"
   ]
  }
 ],
 "metadata": {
  "kernelspec": {
   "display_name": ".venv",
   "language": "python",
   "name": "python3"
  },
  "language_info": {
   "codemirror_mode": {
    "name": "ipython",
    "version": 3
   },
   "file_extension": ".py",
   "mimetype": "text/x-python",
   "name": "python",
   "nbconvert_exporter": "python",
   "pygments_lexer": "ipython3",
   "version": "3.13.3"
  }
 },
 "nbformat": 4,
 "nbformat_minor": 5
}
