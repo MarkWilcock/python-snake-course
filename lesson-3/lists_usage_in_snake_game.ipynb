{
 "cells": [
  {
   "cell_type": "markdown",
   "id": "4d010fec",
   "metadata": {},
   "source": [
    "An example of a list that resembles in in some way our snake list.  \n",
    "We start the list with three elements, just like the snake game starts with three segments.  \n",
    "We consider the  first element to be the head (pointing in the direction of travel).  \n",
    "We want our list to \"walk\" through the alphabet while keeping only three elements.  "
   ]
  },
  {
   "cell_type": "code",
   "execution_count": 1,
   "id": "d5fbf256",
   "metadata": {},
   "outputs": [
    {
     "data": {
      "text/plain": [
       "['C', 'B', 'A']"
      ]
     },
     "execution_count": 1,
     "metadata": {},
     "output_type": "execute_result"
    }
   ],
   "source": [
    "letters = [\"C\", \"B\", \"A\"]\n",
    "letters"
   ]
  },
  {
   "cell_type": "code",
   "execution_count": 2,
   "id": "1173b2a9",
   "metadata": {},
   "outputs": [
    {
     "data": {
      "text/plain": [
       "['D', 'C', 'B']"
      ]
     },
     "execution_count": 2,
     "metadata": {},
     "output_type": "execute_result"
    }
   ],
   "source": [
    "# Let's move one letter forward in the alphabet\n",
    "new_letter = \"D\"\n",
    "letters.insert(0, new_letter)  # we insert the new letter at the start of the list\n",
    "letters.pop() # we remove the last element to keep the list length constant\n",
    "letters"
   ]
  },
  {
   "cell_type": "code",
   "execution_count": 3,
   "id": "c8bbffde",
   "metadata": {},
   "outputs": [
    {
     "data": {
      "text/plain": [
       "['E', 'D', 'C']"
      ]
     },
     "execution_count": 3,
     "metadata": {},
     "output_type": "execute_result"
    }
   ],
   "source": [
    "# And move one more letter forward\n",
    "new_letter = \"E\"\n",
    "letters.insert(0, new_letter)   \n",
    "letters.pop() \n",
    "letters"
   ]
  },
  {
   "cell_type": "markdown",
   "id": "c870ffd6",
   "metadata": {},
   "source": [
    "Use a list of tuples"
   ]
  },
  {
   "cell_type": "code",
   "execution_count": 4,
   "id": "94ca92d2",
   "metadata": {},
   "outputs": [
    {
     "data": {
      "text/plain": [
       "[('C', 'Charlie'), ('B', 'Bravo'), ('A', 'Alpha')]"
      ]
     },
     "execution_count": 4,
     "metadata": {},
     "output_type": "execute_result"
    }
   ],
   "source": [
    "pairs = [(\"C\", \"Charlie\"), (\"B\", \"Bravo\"), (\"A\", \"Alpha\" )]\n",
    "pairs"
   ]
  },
  {
   "cell_type": "code",
   "execution_count": 5,
   "id": "b2931c4e",
   "metadata": {},
   "outputs": [
    {
     "data": {
      "text/plain": [
       "[('D', 'Delta'), ('C', 'Charlie'), ('B', 'Bravo')]"
      ]
     },
     "execution_count": 5,
     "metadata": {},
     "output_type": "execute_result"
    }
   ],
   "source": [
    "new_pair = (\"D\", \"Delta\")\n",
    "pairs.insert(0, new_pair)  # Insert the new pair at the start of the list\n",
    "pairs.pop()  # Remove the last element to keep the list length constant\n",
    "pairs"
   ]
  },
  {
   "cell_type": "markdown",
   "id": "3d2bcd5c",
   "metadata": {},
   "source": [
    "Use the convention that the \"head\" is the last item in the list"
   ]
  },
  {
   "cell_type": "code",
   "execution_count": 6,
   "id": "647d7eb5",
   "metadata": {},
   "outputs": [
    {
     "data": {
      "text/plain": [
       "[('A', 'Alpha'), ('B', 'Bravo'), ('C', 'Charlie')]"
      ]
     },
     "execution_count": 6,
     "metadata": {},
     "output_type": "execute_result"
    }
   ],
   "source": [
    "# Assume the head is the last element in the list\n",
    "reversed_pairs = [ (\"A\", \"Alpha\" ), (\"B\", \"Bravo\"), (\"C\", \"Charlie\")]\n",
    "reversed_pairs\n"
   ]
  },
  {
   "cell_type": "code",
   "execution_count": 7,
   "id": "60092c58",
   "metadata": {},
   "outputs": [
    {
     "data": {
      "text/plain": [
       "[('B', 'Bravo'), ('C', 'Charlie'), ('D', 'Delta')]"
      ]
     },
     "execution_count": 7,
     "metadata": {},
     "output_type": "execute_result"
    }
   ],
   "source": [
    "new_pair = (\"D\", \"Delta\")\n",
    "reversed_pairs.append(new_pair)  # Append a new pair at end of list\n",
    "reversed_pairs.pop(0)  # Remove the first element to keep the list length constant\n",
    "reversed_pairs"
   ]
  }
 ],
 "metadata": {
  "kernelspec": {
   "display_name": ".venv",
   "language": "python",
   "name": "python3"
  },
  "language_info": {
   "codemirror_mode": {
    "name": "ipython",
    "version": 3
   },
   "file_extension": ".py",
   "mimetype": "text/x-python",
   "name": "python",
   "nbconvert_exporter": "python",
   "pygments_lexer": "ipython3",
   "version": "3.13.3"
  }
 },
 "nbformat": 4,
 "nbformat_minor": 5
}
