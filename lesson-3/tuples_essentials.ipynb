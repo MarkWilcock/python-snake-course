{
 "cells": [
  {
   "cell_type": "markdown",
   "metadata": {},
   "source": [
    "# Tuples\n",
    "A tuple is an **immutable** ordered set of elements (a sequence). \n",
    "Unlike a list, once a tuple is created, its elements cannot be changed, added, or removed\n",
    "\n",
    "Create a tuple by enclosing the elements  in parentheses (round brackets)."
   ]
  },
  {
   "cell_type": "code",
   "execution_count": null,
   "metadata": {},
   "outputs": [],
   "source": [
    "## These were the winning balls on a week in December 2023\n",
    "lottery_winning_balls = (4, 12, 23, 30, 50, 56)\n",
    "lottery_winning_balls"
   ]
  },
  {
   "cell_type": "code",
   "execution_count": null,
   "metadata": {},
   "outputs": [],
   "source": [
    "# Another example\n",
    "digits = (0, 1, 2, 3, 4, 5, 6, 7, 8, 9)\n",
    "digits"
   ]
  },
  {
   "cell_type": "code",
   "execution_count": null,
   "metadata": {},
   "outputs": [],
   "source": [
    "# We can access elements of a tuple using the same syntax as a list\n",
    "digits[0] # returns the first element of the tuple"
   ]
  },
  {
   "cell_type": "code",
   "execution_count": null,
   "metadata": {},
   "outputs": [],
   "source": [
    "digits[-1] # returns the last element of the tuple"
   ]
  }
 ],
 "metadata": {
  "kernelspec": {
   "display_name": ".venv",
   "language": "python",
   "name": "python3"
  },
  "language_info": {
   "codemirror_mode": {
    "name": "ipython",
    "version": 3
   },
   "file_extension": ".py",
   "mimetype": "text/x-python",
   "name": "python",
   "nbconvert_exporter": "python",
   "pygments_lexer": "ipython3",
   "version": "3.13.3"
  },
  "metadata": {
   "interpreter": {
    "hash": "68c45707def87feca5a47d18982249224aa76d0675ca5b6bc7cad154e506106e"
   }
  },
  "orig_nbformat": 2
 },
 "nbformat": 4,
 "nbformat_minor": 2
}
