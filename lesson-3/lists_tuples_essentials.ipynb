{
 "cells": [
  {
   "attachments": {},
   "cell_type": "markdown",
   "metadata": {},
   "source": [
    "# Lists and Tuples - Essential Information\n",
    "\n",
    "Just enough about lists and tuples to use them in our snake game"
   ]
  },
  {
   "cell_type": "markdown",
   "metadata": {},
   "source": [
    "## Lists\n",
    "\n",
    "A list is an mutable ordered collection of elements. The elements can be of different data types. Create a list with []."
   ]
  },
  {
   "cell_type": "code",
   "execution_count": null,
   "metadata": {},
   "outputs": [],
   "source": [
    "# A list of different fruits\n",
    "fruit_basket = [\"apple\", \"banana\", \"cherry\"]\n",
    "fruit_basket"
   ]
  },
  {
   "cell_type": "code",
   "execution_count": null,
   "metadata": {},
   "outputs": [],
   "source": [
    "# A list of integers\n",
    "points = [17, 19, 15]\n",
    "points"
   ]
  },
  {
   "attachments": {},
   "cell_type": "markdown",
   "metadata": {},
   "source": [
    "This list contains a items of different types: string, int, bool and another list. It's rare to see this in practice however. "
   ]
  },
  {
   "cell_type": "code",
   "execution_count": null,
   "metadata": {},
   "outputs": [],
   "source": [
    "# Find the number of elements in a list with len() function\n",
    "len(fruit_basket)"
   ]
  },
  {
   "cell_type": "code",
   "execution_count": null,
   "metadata": {},
   "outputs": [],
   "source": [
    "# Use an index to get an element of the list by providing its position, \n",
    "# with 0 being the first position, and -1 being the last position\n",
    "fruit_basket[0]"
   ]
  },
  {
   "cell_type": "code",
   "execution_count": null,
   "metadata": {},
   "outputs": [],
   "source": [
    "# Returns the last element of the list\n",
    "fruit_basket[-1]"
   ]
  },
  {
   "attachments": {},
   "cell_type": "markdown",
   "metadata": {},
   "source": [
    "Lists are mutable - they can be \"edited\".  We can change an item in the list or append to the list. For example, let's append and insert  element to a list.  This is the first time that we have seen a method.\n"
   ]
  },
  {
   "cell_type": "code",
   "execution_count": null,
   "metadata": {},
   "outputs": [],
   "source": [
    "fruit_basket.append(\"elderberry\")\n",
    "fruit_basket"
   ]
  },
  {
   "cell_type": "code",
   "execution_count": null,
   "metadata": {},
   "outputs": [],
   "source": [
    "fruit_basket.insert(0, \"apricot\")\n",
    "fruit_basket"
   ]
  },
  {
   "cell_type": "markdown",
   "metadata": {},
   "source": [
    "We can remove an element with pop.  By default, this will remove the last element"
   ]
  },
  {
   "cell_type": "code",
   "execution_count": null,
   "metadata": {},
   "outputs": [],
   "source": [
    "fruit_basket.pop()  # removes the last element"
   ]
  },
  {
   "cell_type": "markdown",
   "metadata": {},
   "source": [
    "There is an elegant way to do loop through the elements of a list (or any collection type)"
   ]
  },
  {
   "cell_type": "code",
   "execution_count": null,
   "metadata": {},
   "outputs": [],
   "source": [
    "for fruit_item in fruit_basket:\n",
    "    print(fruit_item, \"is in the basket\")"
   ]
  },
  {
   "cell_type": "markdown",
   "metadata": {},
   "source": []
  },
  {
   "cell_type": "markdown",
   "metadata": {},
   "source": [
    "## Tuples\n",
    "\n",
    "A tuple is an **immutable** ordered set of elements (a sequence). \n",
    "Unlike a list, once a tuple is created, its elements cannot be changed, added, or removed\n",
    "\n",
    "Create a tuple by enclosing the elements  in parentheses (round brackets)."
   ]
  },
  {
   "cell_type": "code",
   "execution_count": null,
   "metadata": {},
   "outputs": [],
   "source": [
    "## These were the winning balls on a week in December 2023\n",
    "lottery_winning_balls = (4, 12, 23, 30, 50, 56)\n",
    "lottery_winning_balls"
   ]
  },
  {
   "cell_type": "code",
   "execution_count": null,
   "metadata": {},
   "outputs": [],
   "source": [
    "# Another example\n",
    "digits = (0, 1, 2, 3, 4, 5, 6, 7, 8, 9)\n",
    "digits"
   ]
  },
  {
   "cell_type": "code",
   "execution_count": null,
   "metadata": {},
   "outputs": [],
   "source": [
    "# We can access elements of a tuple using the same syntax as a list\n",
    "digits[0] # returns the first element of the tuple"
   ]
  },
  {
   "cell_type": "markdown",
   "metadata": {},
   "source": [
    "## Usage similar to snake game\n",
    "\n",
    "An example of a list that resembles in in some way our snake list.  \n",
    "We start the list with three elements, just like the snake game starts with three segments.  \n",
    "We consider the  first element to be the head (pointing in the direction of travel).  \n",
    "We want our list to \"walk\" through the alphabet while keeping only three elements.  "
   ]
  },
  {
   "cell_type": "code",
   "execution_count": null,
   "metadata": {},
   "outputs": [],
   "source": [
    "letters = [\"C\", \"B\", \"A\"]\n",
    "letters"
   ]
  },
  {
   "cell_type": "code",
   "execution_count": null,
   "metadata": {},
   "outputs": [],
   "source": [
    "# Let's move one letter forward in the alphabet\n",
    "new_letter = \"D\"\n",
    "letters.insert(0, new_letter)  # we insert the new letter at the start of the list\n",
    "letters.pop() # we remove the last element to keep the list length constant\n",
    "letters"
   ]
  },
  {
   "cell_type": "code",
   "execution_count": null,
   "metadata": {},
   "outputs": [],
   "source": [
    "# And move one more letter forward\n",
    "new_letter = \"E\"\n",
    "letters.insert(0, new_letter)   \n",
    "letters.pop() \n",
    "letters"
   ]
  },
  {
   "cell_type": "markdown",
   "metadata": {},
   "source": [
    "The snake is implemented as a list of tuples."
   ]
  },
  {
   "cell_type": "code",
   "execution_count": null,
   "metadata": {},
   "outputs": [],
   "source": [
    "pairs = [(\"C\", \"Charlie\"), (\"B\", \"Bravo\"), (\"A\", \"Alpha\" )]\n",
    "pairs"
   ]
  },
  {
   "cell_type": "code",
   "execution_count": null,
   "metadata": {},
   "outputs": [],
   "source": [
    "new_pair = (\"D\", \"Delta\")\n",
    "pairs.insert(0, new_pair)  # Insert the new pair at the start of the list\n",
    "pairs.pop()  # Remove the last element to keep the list length constant\n",
    "pairs"
   ]
  },
  {
   "cell_type": "markdown",
   "metadata": {},
   "source": [
    "Alternatively, we can choose to use the convention that the \"head\" is the last item in the list"
   ]
  },
  {
   "cell_type": "code",
   "execution_count": null,
   "metadata": {},
   "outputs": [],
   "source": [
    "# Assume the head is the last element in the list\n",
    "pairs2 = [ (\"A\", \"Alpha\" ), (\"B\", \"Bravo\"), (\"C\", \"Charlie\")]\n",
    "pairs2"
   ]
  },
  {
   "cell_type": "code",
   "execution_count": null,
   "metadata": {},
   "outputs": [],
   "source": [
    "new_pair = (\"D\", \"Delta\")\n",
    "pairs2.append(new_pair)  # Append the new pair at the end of the list\n",
    "pairs2.pop(0)  # Remove the first element to keep the list length constant\n",
    "pairs2"
   ]
  }
 ],
 "metadata": {
  "kernelspec": {
   "display_name": ".venv",
   "language": "python",
   "name": "python3"
  },
  "language_info": {
   "codemirror_mode": {
    "name": "ipython",
    "version": 3
   },
   "file_extension": ".py",
   "mimetype": "text/x-python",
   "name": "python",
   "nbconvert_exporter": "python",
   "pygments_lexer": "ipython3",
   "version": "3.13.3"
  },
  "metadata": {
   "interpreter": {
    "hash": "68c45707def87feca5a47d18982249224aa76d0675ca5b6bc7cad154e506106e"
   }
  },
  "orig_nbformat": 2
 },
 "nbformat": 4,
 "nbformat_minor": 2
}
