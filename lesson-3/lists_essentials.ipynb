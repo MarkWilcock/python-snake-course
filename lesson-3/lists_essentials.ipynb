{
 "cells": [
  {
   "attachments": {},
   "cell_type": "markdown",
   "metadata": {},
   "source": [
    "# Lists\n",
    "A list is an mutable ordered collection of elements. The elements can be of different data types. Create a list with []."
   ]
  },
  {
   "cell_type": "code",
   "execution_count": null,
   "metadata": {},
   "outputs": [],
   "source": [
    "# A list of different fruits\n",
    "fruit_basket = [\"apple\", \"banana\", \"cherry\"]\n",
    "fruit_basket"
   ]
  },
  {
   "cell_type": "code",
   "execution_count": null,
   "metadata": {},
   "outputs": [],
   "source": [
    "# A list of integers\n",
    "points = [17, 19, 15]\n",
    "points"
   ]
  },
  {
   "attachments": {},
   "cell_type": "markdown",
   "metadata": {},
   "source": [
    "This list contains a items of different types: string, int, bool and another list. It's rare to see this in practice however. "
   ]
  },
  {
   "cell_type": "code",
   "execution_count": null,
   "metadata": {},
   "outputs": [],
   "source": [
    "# Find the number of elements in a list with len() function\n",
    "len(fruit_basket)"
   ]
  },
  {
   "cell_type": "code",
   "execution_count": null,
   "metadata": {},
   "outputs": [],
   "source": [
    "# Use an index to get an element of the list by providing its position, \n",
    "# with 0 being the first position, and -1 being the last position\n",
    "fruit_basket[0]"
   ]
  },
  {
   "cell_type": "code",
   "execution_count": null,
   "metadata": {},
   "outputs": [],
   "source": [
    "# Returns the last element of the list\n",
    "fruit_basket[-1]"
   ]
  },
  {
   "attachments": {},
   "cell_type": "markdown",
   "metadata": {},
   "source": [
    "Lists are mutable - they can be \"edited\".  We can change an item in the list or append to the list. For example, let's append and insert  element to a list.  This is the first time that we have seen a method.\n"
   ]
  },
  {
   "cell_type": "code",
   "execution_count": null,
   "metadata": {},
   "outputs": [],
   "source": [
    "fruit_basket.append(\"elderberry\")\n",
    "fruit_basket"
   ]
  },
  {
   "cell_type": "code",
   "execution_count": null,
   "metadata": {},
   "outputs": [],
   "source": [
    "fruit_basket.insert(0, \"apricot\")\n",
    "fruit_basket"
   ]
  },
  {
   "cell_type": "markdown",
   "metadata": {},
   "source": [
    "We can remove an element with pop.  By default, this will remove the last element"
   ]
  },
  {
   "cell_type": "code",
   "execution_count": null,
   "metadata": {},
   "outputs": [],
   "source": [
    "fruit_basket.pop()  # removes the first element"
   ]
  },
  {
   "cell_type": "markdown",
   "metadata": {},
   "source": [
    "There is an elegant way to do loop through the elements of a list (or any collection type)"
   ]
  },
  {
   "cell_type": "code",
   "execution_count": null,
   "metadata": {},
   "outputs": [],
   "source": [
    "for fruit_item in fruit_basket:\n",
    "    print(fruit_item, \"is in the basket\")"
   ]
  }
 ],
 "metadata": {
  "kernelspec": {
   "display_name": ".venv",
   "language": "python",
   "name": "python3"
  },
  "language_info": {
   "codemirror_mode": {
    "name": "ipython",
    "version": 3
   },
   "file_extension": ".py",
   "mimetype": "text/x-python",
   "name": "python",
   "nbconvert_exporter": "python",
   "pygments_lexer": "ipython3",
   "version": "3.13.3"
  },
  "metadata": {
   "interpreter": {
    "hash": "68c45707def87feca5a47d18982249224aa76d0675ca5b6bc7cad154e506106e"
   }
  },
  "orig_nbformat": 2
 },
 "nbformat": 4,
 "nbformat_minor": 2
}
